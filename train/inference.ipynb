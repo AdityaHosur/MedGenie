{
 "cells": [
  {
   "cell_type": "code",
   "execution_count": 2,
   "metadata": {},
   "outputs": [
    {
     "name": "stderr",
     "output_type": "stream",
     "text": [
      "C:\\Users\\paava\\AppData\\Roaming\\Python\\Python312\\site-packages\\transformers\\tokenization_utils_base.py:1601: FutureWarning: `clean_up_tokenization_spaces` was not set. It will be set to `True` by default. This behavior will be depracted in transformers v4.45, and will be then set to `False` by default. For more details check this issue: https://github.com/huggingface/transformers/issues/31884\n",
      "  warnings.warn(\n"
     ]
    }
   ],
   "source": [
    "from transformers import AutoTokenizer, AutoModelForMaskedLM, AutoModelForSeq2SeqLM\n",
    "from transformers import DataCollatorForSeq2Seq\n",
    "model_checkpoint = \"GanjinZero/biobart-v2-large\"\n",
    "model = AutoModelForSeq2SeqLM.from_pretrained(model_checkpoint)\n",
    "tokenizer = AutoTokenizer.from_pretrained(model_checkpoint)\n",
    "data_collator = DataCollatorForSeq2Seq(tokenizer, model=model)"
   ]
  },
  {
   "cell_type": "code",
   "execution_count": 3,
   "metadata": {},
   "outputs": [
    {
     "name": "stderr",
     "output_type": "stream",
     "text": [
      "[nltk_data] Downloading package punkt to\n",
      "[nltk_data]     C:\\Users\\paava\\AppData\\Roaming\\nltk_data...\n",
      "[nltk_data]   Package punkt is already up-to-date!\n"
     ]
    }
   ],
   "source": [
    "from nltk.tokenize import sent_tokenize\n",
    "import pandas as pd\n",
    "import nltk\n",
    "\n",
    "nltk.download(\"punkt\")\n",
    "from evaluate import load\n",
    "\n",
    "rouge_score = load(\"rouge\")\n",
    "bert_score = load(\"bertscore\")"
   ]
  },
  {
   "cell_type": "code",
   "execution_count": 4,
   "metadata": {},
   "outputs": [],
   "source": [
    "from datasets import load_dataset\n",
    "\n",
    "# Load the dataset\n",
    "dataset = load_dataset(\"itsanmolgupta/mimic-cxr-dataset\")\n",
    "dataset = dataset.filter(lambda x: x[\"findings\"] is not None and x[\"impression\"] is not None)\n",
    "\n",
    "def preprocess_inputs(examples):\n",
    "    examples[\"findings\"] = str(examples[\"findings\"]) if examples[\"findings\"] else \"\"\n",
    "    examples[\"impression\"] = str(examples[\"impression\"]) if examples[\"impression\"] else \"\"\n",
    "    return examples\n",
    "\n",
    "dataset = dataset.map(preprocess_inputs)\n",
    "\n"
   ]
  },
  {
   "cell_type": "code",
   "execution_count": 5,
   "metadata": {},
   "outputs": [],
   "source": [
    "\n",
    "max_input_length = 1024\n",
    "max_target_length = 300\n",
    "\n",
    "def preprocess_dataset(examples):\n",
    "    # Ensure findings and impression are strings\n",
    "    input_texts = examples[\"findings\"]\n",
    "    target_texts = examples[\"impression\"]\n",
    "\n",
    "    # Tokenize inputs\n",
    "    model_inputs = tokenizer(\n",
    "        input_texts, max_length=max_input_length, truncation=True, padding=\"max_length\"\n",
    "    )\n",
    "\n",
    "    # Tokenize targets\n",
    "    with tokenizer.as_target_tokenizer():\n",
    "        labels = tokenizer(\n",
    "            target_texts, max_length=max_target_length, truncation=True, padding=\"max_length\"\n",
    "        )\n",
    "\n",
    "    model_inputs[\"labels\"] = labels[\"input_ids\"]\n",
    "    return model_inputs\n",
    "\n",
    "# Apply preprocessing\n",
    "tokenized_dataset = dataset.map(preprocess_dataset, batched=True)\n",
    "tokenized_dataset.set_format(\"torch\")\n",
    "\n"
   ]
  },
  {
   "cell_type": "code",
   "execution_count": 6,
   "metadata": {},
   "outputs": [],
   "source": [
    "# Assuming tokenized_dataset[\"train\"] exists and is a Dataset object\n",
    "from datasets import Dataset\n",
    "\n",
    "# Split the 'train' dataset using Hugging Face's train_test_split method\n",
    "train_dataset = tokenized_dataset[\"train\"]\n",
    "split_datasets = train_dataset.train_test_split(test_size=0.2)\n",
    "\n",
    "# Now you have the train and validation datasets\n",
    "train_dataset = split_datasets[\"train\"].select(range(10))\n",
    "val_dataset = split_datasets[\"test\"].select(range(10))\n"
   ]
  },
  {
   "cell_type": "code",
   "execution_count": 7,
   "metadata": {},
   "outputs": [
    {
     "name": "stdout",
     "output_type": "stream",
     "text": [
      "True\n"
     ]
    }
   ],
   "source": [
    "import torch\n",
    "torch.cuda.empty_cache()\n",
    "with torch.no_grad():\n",
    "    torch.cuda.empty_cache()\n",
    "print(torch.cuda.is_available())"
   ]
  },
  {
   "cell_type": "code",
   "execution_count": 8,
   "metadata": {},
   "outputs": [
    {
     "data": {
      "text/plain": [
       "{'image': tensor([[[ 33,  33,  33,  ...,  33,  33,  33],\n",
       "          [ 33,  33,  33,  ...,  33,  33,  33],\n",
       "          [ 33,  33,  33,  ...,  33,  33,  33],\n",
       "          ...,\n",
       "          [237, 238, 238,  ...,  41,  42,  42],\n",
       "          [238, 238, 239,  ...,  41,  42,  42],\n",
       "          [238, 238, 239,  ...,  41,  42,  42]],\n",
       " \n",
       "         [[ 33,  33,  33,  ...,  33,  33,  33],\n",
       "          [ 33,  33,  33,  ...,  33,  33,  33],\n",
       "          [ 33,  33,  33,  ...,  33,  33,  33],\n",
       "          ...,\n",
       "          [237, 238, 238,  ...,  41,  42,  42],\n",
       "          [238, 238, 239,  ...,  41,  42,  42],\n",
       "          [238, 238, 239,  ...,  41,  42,  42]],\n",
       " \n",
       "         [[ 33,  33,  33,  ...,  33,  33,  33],\n",
       "          [ 33,  33,  33,  ...,  33,  33,  33],\n",
       "          [ 33,  33,  33,  ...,  33,  33,  33],\n",
       "          ...,\n",
       "          [237, 238, 238,  ...,  41,  42,  42],\n",
       "          [238, 238, 239,  ...,  41,  42,  42],\n",
       "          [238, 238, 239,  ...,  41,  42,  42]]], dtype=torch.uint8),\n",
       " 'findings': 'Portable AP chest radiograph. The lungs are relatively well expanded without focal consolidation, pleural effusion or pneumothorax. The heart is normal in size with tortuous aortic contour. ',\n",
       " 'impression': 'No acute intrathoracic process.',\n",
       " 'input_ids': tensor([    0, 22117,   868,  ...,     1,     1,     1]),\n",
       " 'attention_mask': tensor([1, 1, 1,  ..., 0, 0, 0]),\n",
       " 'labels': tensor([    0,  3084, 13827, 64199,   609,     4,     2,     1,     1,     1,\n",
       "             1,     1,     1,     1,     1,     1,     1,     1,     1,     1,\n",
       "             1,     1,     1,     1,     1,     1,     1,     1,     1,     1,\n",
       "             1,     1,     1,     1,     1,     1,     1,     1,     1,     1,\n",
       "             1,     1,     1,     1,     1,     1,     1,     1,     1,     1,\n",
       "             1,     1,     1,     1,     1,     1,     1,     1,     1,     1,\n",
       "             1,     1,     1,     1,     1,     1,     1,     1,     1,     1,\n",
       "             1,     1,     1,     1,     1,     1,     1,     1,     1,     1,\n",
       "             1,     1,     1,     1,     1,     1,     1,     1,     1,     1,\n",
       "             1,     1,     1,     1,     1,     1,     1,     1,     1,     1,\n",
       "             1,     1,     1,     1,     1,     1,     1,     1,     1,     1,\n",
       "             1,     1,     1,     1,     1,     1,     1,     1,     1,     1,\n",
       "             1,     1,     1,     1,     1,     1,     1,     1,     1,     1,\n",
       "             1,     1,     1,     1,     1,     1,     1,     1,     1,     1,\n",
       "             1,     1,     1,     1,     1,     1,     1,     1,     1,     1,\n",
       "             1,     1,     1,     1,     1,     1,     1,     1,     1,     1,\n",
       "             1,     1,     1,     1,     1,     1,     1,     1,     1,     1,\n",
       "             1,     1,     1,     1,     1,     1,     1,     1,     1,     1,\n",
       "             1,     1,     1,     1,     1,     1,     1,     1,     1,     1,\n",
       "             1,     1,     1,     1,     1,     1,     1,     1,     1,     1,\n",
       "             1,     1,     1,     1,     1,     1,     1,     1,     1,     1,\n",
       "             1,     1,     1,     1,     1,     1,     1,     1,     1,     1,\n",
       "             1,     1,     1,     1,     1,     1,     1,     1,     1,     1,\n",
       "             1,     1,     1,     1,     1,     1,     1,     1,     1,     1,\n",
       "             1,     1,     1,     1,     1,     1,     1,     1,     1,     1,\n",
       "             1,     1,     1,     1,     1,     1,     1,     1,     1,     1,\n",
       "             1,     1,     1,     1,     1,     1,     1,     1,     1,     1,\n",
       "             1,     1,     1,     1,     1,     1,     1,     1,     1,     1,\n",
       "             1,     1,     1,     1,     1,     1,     1,     1,     1,     1,\n",
       "             1,     1,     1,     1,     1,     1,     1,     1,     1,     1])}"
      ]
     },
     "execution_count": 8,
     "metadata": {},
     "output_type": "execute_result"
    }
   ],
   "source": [
    "tokenized_dataset[\"train\"][6]"
   ]
  },
  {
   "cell_type": "code",
   "execution_count": 9,
   "metadata": {},
   "outputs": [
    {
     "name": "stderr",
     "output_type": "stream",
     "text": [
      "C:\\Users\\paava\\AppData\\Roaming\\Python\\Python312\\site-packages\\transformers\\optimization.py:591: FutureWarning: This implementation of AdamW is deprecated and will be removed in a future version. Use the PyTorch implementation torch.optim.AdamW instead, or set `no_deprecation_warning=True` to disable this warning\n",
      "  warnings.warn(\n"
     ]
    }
   ],
   "source": [
    "from transformers import AdamW, get_linear_schedule_with_warmup\n",
    "from tqdm.notebook import tqdm\n",
    "\n",
    "num_epochs = 3\n",
    "num_training_steps = 3 * len(train_dataset)\n",
    "optimizer = AdamW(model.parameters(), lr=5e-5, weight_decay=0.01)\n",
    "lr_scheduler = get_linear_schedule_with_warmup(optimizer, num_warmup_steps=0, num_training_steps=num_training_steps)"
   ]
  },
  {
   "cell_type": "code",
   "execution_count": 10,
   "metadata": {},
   "outputs": [
    {
     "name": "stderr",
     "output_type": "stream",
     "text": [
      "C:\\Users\\paava\\AppData\\Roaming\\Python\\Python312\\site-packages\\transformers\\training_args.py:1525: FutureWarning: `evaluation_strategy` is deprecated and will be removed in version 4.46 of 🤗 Transformers. Use `eval_strategy` instead\n",
      "  warnings.warn(\n",
      "  0%|          | 0/40 [00:00<?, ?it/s]C:\\Users\\paava\\AppData\\Roaming\\Python\\Python312\\site-packages\\transformers\\data\\data_collator.py:656: UserWarning: Creating a tensor from a list of numpy.ndarrays is extremely slow. Please consider converting the list to a single numpy.ndarray with numpy.array() before converting to a tensor. (Triggered internally at C:\\actions-runner\\_work\\pytorch\\pytorch\\builder\\windows\\pytorch\\torch\\csrc\\utils\\tensor_new.cpp:281.)\n",
      "  batch[\"labels\"] = torch.tensor(batch[\"labels\"], dtype=torch.int64)\n",
      " 25%|██▌       | 10/40 [01:34<04:12,  8.40s/it]C:\\Users\\paava\\AppData\\Roaming\\Python\\Python312\\site-packages\\transformers\\generation\\utils.py:1258: UserWarning: Using the model-agnostic default `max_length` (=20) to control the generation length. We recommend setting `max_new_tokens` to control the maximum length of the generation.\n",
      "  warnings.warn(\n"
     ]
    },
    {
     "name": "stdout",
     "output_type": "stream",
     "text": [
      "{'loss': 0.4121, 'grad_norm': 2.703561305999756, 'learning_rate': 4.2e-05, 'epoch': 1.0}\n"
     ]
    },
    {
     "name": "stderr",
     "output_type": "stream",
     "text": [
      "                                               \n",
      " 25%|██▌       | 10/40 [01:42<04:12,  8.40s/it]"
     ]
    },
    {
     "name": "stdout",
     "output_type": "stream",
     "text": [
      "{'eval_loss': 0.18311989307403564, 'eval_rouge1': 14.9609, 'eval_rouge2': 1.6893, 'eval_rougeL': 12.4673, 'eval_runtime': 7.3327, 'eval_samples_per_second': 1.364, 'eval_steps_per_second': 1.364, 'epoch': 1.0}\n"
     ]
    },
    {
     "name": "stderr",
     "output_type": "stream",
     "text": [
      " 50%|█████     | 20/40 [03:04<02:45,  8.30s/it]"
     ]
    },
    {
     "name": "stdout",
     "output_type": "stream",
     "text": [
      "{'loss': 0.1187, 'grad_norm': 4.859731197357178, 'learning_rate': 2.8e-05, 'epoch': 2.0}\n"
     ]
    },
    {
     "name": "stderr",
     "output_type": "stream",
     "text": [
      "                                               \n",
      " 50%|█████     | 20/40 [03:09<02:45,  8.30s/it]"
     ]
    },
    {
     "name": "stdout",
     "output_type": "stream",
     "text": [
      "{'eval_loss': 0.17209631204605103, 'eval_rouge1': 13.2717, 'eval_rouge2': 2.8571, 'eval_rougeL': 12.5574, 'eval_runtime': 5.2161, 'eval_samples_per_second': 1.917, 'eval_steps_per_second': 1.917, 'epoch': 2.0}\n"
     ]
    },
    {
     "name": "stderr",
     "output_type": "stream",
     "text": [
      " 75%|███████▌  | 30/40 [04:31<01:22,  8.27s/it]"
     ]
    },
    {
     "name": "stdout",
     "output_type": "stream",
     "text": [
      "{'loss': 0.0773, 'grad_norm': 1.498457670211792, 'learning_rate': 1.4e-05, 'epoch': 3.0}\n"
     ]
    },
    {
     "name": "stderr",
     "output_type": "stream",
     "text": [
      "                                               \n",
      " 75%|███████▌  | 30/40 [04:37<01:22,  8.27s/it]"
     ]
    },
    {
     "name": "stdout",
     "output_type": "stream",
     "text": [
      "{'eval_loss': 0.1568511426448822, 'eval_rouge1': 14.2717, 'eval_rouge2': 2.5, 'eval_rougeL': 13.5574, 'eval_runtime': 5.6528, 'eval_samples_per_second': 1.769, 'eval_steps_per_second': 1.769, 'epoch': 3.0}\n"
     ]
    },
    {
     "name": "stderr",
     "output_type": "stream",
     "text": [
      "100%|██████████| 40/40 [05:59<00:00,  8.32s/it]Some non-default generation parameters are set in the model config. These should go into a GenerationConfig file (https://huggingface.co/docs/transformers/generation_strategies#save-a-custom-decoding-strategy-with-your-model) instead. This warning will be raised to an exception in v4.41.\n",
      "Non-default generation parameters: {'early_stopping': True, 'num_beams': 4, 'no_repeat_ngram_size': 3, 'forced_eos_token_id': 2}\n"
     ]
    },
    {
     "name": "stdout",
     "output_type": "stream",
     "text": [
      "{'loss': 0.0426, 'grad_norm': 1.4052495956420898, 'learning_rate': 0.0, 'epoch': 4.0}\n"
     ]
    },
    {
     "name": "stderr",
     "output_type": "stream",
     "text": [
      "C:\\Users\\paava\\AppData\\Roaming\\Python\\Python312\\site-packages\\transformers\\generation\\utils.py:1258: UserWarning: Using the model-agnostic default `max_length` (=20) to control the generation length. We recommend setting `max_new_tokens` to control the maximum length of the generation.\n",
      "  warnings.warn(\n",
      "                                               \n",
      "100%|██████████| 40/40 [06:14<00:00,  9.37s/it]\n",
      "Some non-default generation parameters are set in the model config. These should go into a GenerationConfig file (https://huggingface.co/docs/transformers/generation_strategies#save-a-custom-decoding-strategy-with-your-model) instead. This warning will be raised to an exception in v4.41.\n",
      "Non-default generation parameters: {'early_stopping': True, 'num_beams': 4, 'no_repeat_ngram_size': 3, 'forced_eos_token_id': 2}\n"
     ]
    },
    {
     "name": "stdout",
     "output_type": "stream",
     "text": [
      "{'eval_loss': 0.15562531352043152, 'eval_rouge1': 15.3243, 'eval_rouge2': 2.5, 'eval_rougeL': 14.6101, 'eval_runtime': 5.8136, 'eval_samples_per_second': 1.72, 'eval_steps_per_second': 1.72, 'epoch': 4.0}\n",
      "{'train_runtime': 374.9626, 'train_samples_per_second': 0.107, 'train_steps_per_second': 0.107, 'train_loss': 0.1626589886844158, 'epoch': 4.0}\n"
     ]
    },
    {
     "name": "stderr",
     "output_type": "stream",
     "text": [
      "C:\\Users\\paava\\AppData\\Roaming\\Python\\Python312\\site-packages\\transformers\\generation\\utils.py:1258: UserWarning: Using the model-agnostic default `max_length` (=20) to control the generation length. We recommend setting `max_new_tokens` to control the maximum length of the generation.\n",
      "  warnings.warn(\n",
      "100%|██████████| 10/10 [00:05<00:00,  1.89it/s]"
     ]
    },
    {
     "name": "stdout",
     "output_type": "stream",
     "text": [
      "{'eval_loss': 0.15562531352043152, 'eval_rouge1': 15.3243, 'eval_rouge2': 2.5, 'eval_rougeL': 14.6101, 'eval_runtime': 6.0671, 'eval_samples_per_second': 1.648, 'eval_steps_per_second': 1.648, 'epoch': 4.0}\n"
     ]
    },
    {
     "name": "stderr",
     "output_type": "stream",
     "text": [
      "\n"
     ]
    }
   ],
   "source": [
    "from transformers import Seq2SeqTrainer, Seq2SeqTrainingArguments, TrainerCallback\n",
    "import numpy as np\n",
    "from sklearn.metrics import precision_recall_fscore_support\n",
    "import json\n",
    "from nltk.tokenize import sent_tokenize\n",
    "from rouge_score import rouge_scorer\n",
    "\n",
    "# Constants\n",
    "num_epochs = 4\n",
    "batch_size = 1\n",
    "model_name = 'GanjinZero/biobart-v2-large'\n",
    "\n",
    "# Define logging steps\n",
    "logging_steps = 10\n",
    "\n",
    "# Setup training arguments\n",
    "args = Seq2SeqTrainingArguments(\n",
    "    output_dir=f\"/content/{model_name}-finetuned-mimiccxr\",\n",
    "    evaluation_strategy=\"epoch\",  # Evaluate after each epoch\n",
    "    learning_rate=5.6e-5,\n",
    "    per_device_train_batch_size=batch_size,\n",
    "    per_device_eval_batch_size=batch_size,\n",
    "    weight_decay=0.01,\n",
    "    save_total_limit=3,\n",
    "    num_train_epochs=num_epochs,\n",
    "    predict_with_generate=True,\n",
    "    logging_steps=logging_steps,\n",
    "    push_to_hub=False,\n",
    ")\n",
    "\n",
    "# Compute ROUGE metrics\n",
    "def compute_metrics(eval_pred):\n",
    "    predictions, labels = eval_pred\n",
    "    # Decode generated summaries into text\n",
    "    decoded_preds = tokenizer.batch_decode(predictions, skip_special_tokens=True)\n",
    "    # Replace -100 in the labels as we can't decode them\n",
    "    labels = np.where(labels != -100, labels, tokenizer.pad_token_id)\n",
    "    # Decode reference summaries into text\n",
    "    decoded_labels = tokenizer.batch_decode(labels, skip_special_tokens=True)\n",
    "    # ROUGE expects a newline after each sentence\n",
    "    decoded_preds = [\"\\n\".join(sent_tokenize(pred.strip())) for pred in decoded_preds]\n",
    "    decoded_labels = [\"\\n\".join(sent_tokenize(label.strip())) for label in decoded_labels]\n",
    "    # Compute ROUGE scores\n",
    "    scorer = rouge_scorer.RougeScorer([\"rouge1\", \"rouge2\", \"rougeL\"], use_stemmer=True)\n",
    "    \n",
    "    # Calculate ROUGE scores for each prediction and reference pair\n",
    "    rouge_results = [scorer.score(label, pred) for label, pred in zip(decoded_labels, decoded_preds)]\n",
    "\n",
    "    # Aggregate scores for each metric\n",
    "    rouge1 = np.mean([result[\"rouge1\"].fmeasure for result in rouge_results])\n",
    "    rouge2 = np.mean([result[\"rouge2\"].fmeasure for result in rouge_results])\n",
    "    rougeL = np.mean([result[\"rougeL\"].fmeasure for result in rouge_results])\n",
    "\n",
    "    return {\n",
    "        \"rouge1\": round(rouge1 * 100, 4),\n",
    "        \"rouge2\": round(rouge2 * 100, 4),\n",
    "        \"rougeL\": round(rougeL * 100, 4),\n",
    "    }\n",
    "\n",
    "# Logging callback class for custom logging\n",
    "class LoggingCallback(TrainerCallback):\n",
    "    def __init__(self, log_path):\n",
    "        self.log_path = log_path\n",
    "\n",
    "    def on_log(self, args, state, control, logs=None, **kwargs):\n",
    "        _ = logs.pop(\"total_flos\", None)\n",
    "        if state.is_local_process_zero:\n",
    "            with open(self.log_path, \"a\") as f:\n",
    "                f.write(json.dumps(logs) + \"\\n\")\n",
    "\n",
    "# Initialize the trainer\n",
    "trainer = Seq2SeqTrainer(\n",
    "    model=model,\n",
    "    args=args,\n",
    "    train_dataset=train_dataset,\n",
    "    eval_dataset=val_dataset,  # Use the validation set for evaluation\n",
    "    data_collator=data_collator,\n",
    "    tokenizer=tokenizer,\n",
    "    compute_metrics=compute_metrics\n",
    ")\n",
    "\n",
    "# Train the model\n",
    "trainer.train()\n",
    "trainer.save_model('../models/biobert-trained')\n",
    "\n",
    "# Save the fine-tuned model and tokenizer\n",
    "\n",
    "# Evaluate the model on the validation set\n",
    "evaluate_result = trainer.evaluate()\n",
    "print(evaluate_result)\n"
   ]
  },
  {
   "cell_type": "code",
   "execution_count": 11,
   "metadata": {},
   "outputs": [
    {
     "name": "stderr",
     "output_type": "stream",
     "text": [
      "Some non-default generation parameters are set in the model config. These should go into a GenerationConfig file (https://huggingface.co/docs/transformers/generation_strategies#save-a-custom-decoding-strategy-with-your-model) instead. This warning will be raised to an exception in v4.41.\n",
      "Non-default generation parameters: {'early_stopping': True, 'num_beams': 4, 'no_repeat_ngram_size': 3, 'forced_eos_token_id': 2}\n"
     ]
    },
    {
     "data": {
      "text/plain": [
       "('../models/biobert-trained\\\\tokenizer_config.json',\n",
       " '../models/biobert-trained\\\\special_tokens_map.json',\n",
       " '../models/biobert-trained\\\\vocab.json',\n",
       " '../models/biobert-trained\\\\merges.txt',\n",
       " '../models/biobert-trained\\\\added_tokens.json',\n",
       " '../models/biobert-trained\\\\tokenizer.json')"
      ]
     },
     "execution_count": 11,
     "metadata": {},
     "output_type": "execute_result"
    }
   ],
   "source": [
    "model.save_pretrained('../models/biobert-trained')\n",
    "tokenizer.save_pretrained('../models/biobert-trained')"
   ]
  },
  {
   "cell_type": "code",
   "execution_count": 12,
   "metadata": {},
   "outputs": [
    {
     "name": "stderr",
     "output_type": "stream",
     "text": [
      "C:\\Users\\paava\\AppData\\Roaming\\Python\\Python312\\site-packages\\transformers\\generation\\utils.py:1258: UserWarning: Using the model-agnostic default `max_length` (=20) to control the generation length. We recommend setting `max_new_tokens` to control the maximum length of the generation.\n",
      "  warnings.warn(\n",
      "100%|██████████| 10/10 [00:05<00:00,  1.98it/s]\n"
     ]
    }
   ],
   "source": [
    "evalute_result=trainer.evaluate()"
   ]
  },
  {
   "cell_type": "code",
   "execution_count": 13,
   "metadata": {},
   "outputs": [
    {
     "data": {
      "text/plain": [
       "{'eval_loss': 0.15562531352043152,\n",
       " 'eval_rouge1': 15.3243,\n",
       " 'eval_rouge2': 2.5,\n",
       " 'eval_rougeL': 14.6101,\n",
       " 'eval_runtime': 5.9891,\n",
       " 'eval_samples_per_second': 1.67,\n",
       " 'eval_steps_per_second': 1.67,\n",
       " 'epoch': 4.0}"
      ]
     },
     "execution_count": 13,
     "metadata": {},
     "output_type": "execute_result"
    }
   ],
   "source": [
    "evalute_result"
   ]
  },
  {
   "cell_type": "code",
   "execution_count": 14,
   "metadata": {},
   "outputs": [
    {
     "name": "stderr",
     "output_type": "stream",
     "text": [
      "Asking to truncate to max_length but no maximum length is provided and the model has no predefined maximum length. Default to no truncation.\n"
     ]
    },
    {
     "name": "stdout",
     "output_type": "stream",
     "text": [
      "No evidence of acute disease.\n"
     ]
    }
   ],
   "source": [
    "from transformers import AutoModelForSeq2SeqLM, AutoTokenizer\n",
    "\n",
    "# Load the fine-tuned model and tokenizer\n",
    "model = AutoModelForSeq2SeqLM.from_pretrained('../models/biobert-trained')\n",
    "tokenizer = AutoTokenizer.from_pretrained('../models/biobert-trained')\n",
    "\n",
    "input_text = \"computed tomography of the abdomen showing the presence of the hypoplasia in the lower parietal section of the abdomen\"\n",
    "\n",
    "# Tokenize the input text\n",
    "inputs = tokenizer(input_text, return_tensors=\"pt\", padding=True, truncation=True)\n",
    "# Generate the output sequence (prediction)\n",
    "output = model.generate(\n",
    "    inputs['input_ids'],\n",
    "    num_beams=4,\n",
    "    max_length=50,  # Adjust as necessary\n",
    "    early_stopping=True\n",
    ")\n",
    "\n",
    "# Decode the generated output into text\n",
    "generated_text = tokenizer.decode(output[0], skip_special_tokens=True)\n",
    "print(generated_text)\n"
   ]
  }
 ],
 "metadata": {
  "kernelspec": {
   "display_name": "Python 3",
   "language": "python",
   "name": "python3"
  },
  "language_info": {
   "codemirror_mode": {
    "name": "ipython",
    "version": 3
   },
   "file_extension": ".py",
   "mimetype": "text/x-python",
   "name": "python",
   "nbconvert_exporter": "python",
   "pygments_lexer": "ipython3",
   "version": "3.12.0"
  }
 },
 "nbformat": 4,
 "nbformat_minor": 2
}
